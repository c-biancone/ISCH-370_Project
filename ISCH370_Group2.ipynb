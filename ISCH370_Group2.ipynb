{
  "nbformat": 4,
  "nbformat_minor": 0,
  "metadata": {
    "colab": {
      "provenance": [],
      "collapsed_sections": [],
      "include_colab_link": true
    },
    "kernelspec": {
      "name": "python3",
      "display_name": "Python 3"
    },
    "language_info": {
      "name": "python"
    }
  },
  "cells": [
    {
      "cell_type": "markdown",
      "metadata": {
        "id": "view-in-github",
        "colab_type": "text"
      },
      "source": [
        "<a href=\"https://colab.research.google.com/github/c-biancone/ISCH-370_Project/blob/main/ISCH370_Group2.ipynb\" target=\"_parent\"><img src=\"https://colab.research.google.com/assets/colab-badge.svg\" alt=\"Open In Colab\"/></a>"
      ]
    },
    {
      "cell_type": "markdown",
      "source": [
        "Import datasets"
      ],
      "metadata": {
        "id": "v9ztZ7ogv9YN"
      }
    },
    {
      "cell_type": "code",
      "execution_count": 1,
      "metadata": {
        "colab": {
          "base_uri": "https://localhost:8080/"
        },
        "id": "gCb3KOOVraGa",
        "outputId": "dde1d5be-92c4-4384-9306-3b1af8cc2ac2"
      },
      "outputs": [
        {
          "output_type": "stream",
          "name": "stdout",
          "text": [
            "Mounted at /content/drive\n"
          ]
        }
      ],
      "source": [
        "# mount drive\n",
        "from google.colab import drive\n",
        "drive.mount('/content/drive')"
      ]
    },
    {
      "cell_type": "code",
      "source": [
        "# import DoT county transportation profiles (Stored in GitHub repo)\n",
        "import pandas as pd\n",
        "countyTrans = pd.read_csv('https://raw.githubusercontent.com/c-biancone/ISCH-370_Project/main/data_sets/county_transportation_profiles.csv')\n",
        "\n",
        "# import DoT trips by distance\n",
        "# not right now don't want to slow this down too much\n",
        "\n",
        "# import census data"
      ],
      "metadata": {
        "id": "NaBjMBau0DwT"
      },
      "execution_count": 12,
      "outputs": []
    },
    {
      "cell_type": "code",
      "source": [
        "# check out the dataset\n",
        "# countyTrans"
      ],
      "metadata": {
        "id": "bQ0h_L3o1wPc"
      },
      "execution_count": 16,
      "outputs": []
    },
    {
      "cell_type": "code",
      "source": [
        "# see how many null values there are in which column\n",
        "countyTrans.isnull().sum()"
      ],
      "metadata": {
        "colab": {
          "base_uri": "https://localhost:8080/"
        },
        "id": "qYLO5YUs2rwB",
        "outputId": "17c29faf-aaef-4994-f283-82656b904171"
      },
      "execution_count": 15,
      "outputs": [
        {
          "output_type": "execute_result",
          "data": {
            "text/plain": [
              "County FIPS                                                                   0\n",
              "County Name                                                                   0\n",
              "State FIPS                                                                    0\n",
              "State Name                                                                    0\n",
              "Primary and Commercial Airports                                             125\n",
              "Non-Commercial -Civil Public Use Airports and Seaplane base                 125\n",
              "Non-Commercial -Other Aerodromes                                            125\n",
              "Number of Bridges                                                            18\n",
              "% of Poor Condition Bridges                                                  18\n",
              "Number of business establishments                                             2\n",
              "Percent of resident workers who commute by transit                            0\n",
              "Number of resident workers who work at home                                   3\n",
              "Number of workers from other counties who commute to work in the county       0\n",
              "Number of resident workers who commute to work in other counties              0\n",
              "Number of resident workers who commute within county                          0\n",
              "Number of resident workers                                                    0\n",
              "Number of residents                                                           0\n",
              "Total Docks                                                                2613\n",
              "Total Marinas                                                              2613\n",
              "Route miles of freight railroad                                             456\n",
              "% of Medium to Fair Condition Bridges                                        18\n",
              "Route miles of passenger railroad and rail transit                          456\n",
              "dtype: int64"
            ]
          },
          "metadata": {},
          "execution_count": 15
        }
      ]
    },
    {
      "cell_type": "code",
      "source": [
        "countyTransCleaned = countyTrans.copy()\n",
        "# docks and marinas have huge number of null values and aren't relevant\n",
        "countyTransCleaned.drop(['Total Docks','Total Marinas'], axis=1, inplace=True)\n",
        "# assume airports, bridges, railroad null values are counties without these since the catergories have same number missing\n",
        "countyTransCleaned['Primary and Commercial Airports'].fillna(0, inplace=True)\n",
        "countyTransCleaned['Non-Commercial -Civil Public Use Airports and Seaplane base'].fillna(0, inplace=True)\n",
        "countyTransCleaned['Non-Commercial -Other Aerodromes'].fillna(0, inplace=True)\n",
        "countyTransCleaned['Number of Bridges'].fillna(0, inplace=True)\n",
        "countyTransCleaned['% of Poor Condition Bridges'].fillna(0.0, inplace=True)\n",
        "countyTransCleaned['% of Medium to Fair Condition Bridges'].fillna(1.0, inplace=True) # no bridges = fine condition\n",
        "countyTransCleaned['Route miles of freight railroad'].fillna(0.0, inplace=True)\n",
        "countyTransCleaned['Route miles of passenger railroad and rail transit'].fillna(0.0, inplace=True)\n",
        "\n",
        "# countyTransCleaned.isnull().sum()"
      ],
      "metadata": {
        "id": "ZvWi6vsR-mYd"
      },
      "execution_count": 28,
      "outputs": []
    },
    {
      "cell_type": "code",
      "source": [
        "# let's look at the null values for businesses and wfh\n",
        "temp = pd.DataFrame(columns = countyTransCleaned.columns)\n",
        "for i in range(countyTransCleaned.shape[0]-1):\n",
        "    row = countyTransCleaned.loc[i]\n",
        "    if row.isnull().any():\n",
        "        temp = temp.append(row)\n",
        "# temp"
      ],
      "metadata": {
        "id": "2K-byHH3DgCA"
      },
      "execution_count": 29,
      "outputs": []
    },
    {
      "cell_type": "code",
      "source": [
        "# the counties above are small, low in population, so assuning businesses and wfh = 0\n",
        "countyTransCleaned['Number of business establishments'].fillna(0, inplace=True)\n",
        "countyTransCleaned['Number of resident workers who work at home'].fillna(0, inplace=True)"
      ],
      "metadata": {
        "id": "2bThpgzwJXBd"
      },
      "execution_count": 30,
      "outputs": []
    }
  ]
}